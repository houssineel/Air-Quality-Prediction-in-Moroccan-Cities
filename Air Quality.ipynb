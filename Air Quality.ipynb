{
 "cells": [
  {
   "cell_type": "markdown",
   "id": "65f081ed",
   "metadata": {},
   "source": [
    "# 🌍 Air Quality Prediction in Moroccan Cities\n",
    "### Project: Machine Learning + (Optionnel) Federated Learning\n",
    "**Cities**: Casablanca, Rabat, Marrakech, Fes\n",
    "\n",
    "\n",
    "**Objectif** : Prédire la qualité de l'air (PM2.5 ou AQI) à partir de données météorologiques collectées en temps réel via l'API OpenWeatherMap."
   ]
  },
  {
   "cell_type": "markdown",
   "id": "1e4dd299",
   "metadata": {},
   "source": [
    "# 📦 Import des bibliothèques nécessaires,\n",
    "\n",
    "-pandas/numpy : Manipulation et traitement des données \n",
    "\n",
    "-matplotlib/seaborn : Visualisation des données et résultats\n",
    "\n",
    "-sklearn : Outils d'apprentissage automatique (modèles, métriques, préprocessing)\n",
    "\n",
    "-requests : Appels API pour récupérer les données météo\n",
    "\n",
    "-time : Gestion des pauses entre les appels API"
   ]
  },
  {
   "cell_type": "code",
   "execution_count": 1,
   "id": "1a811a27",
   "metadata": {},
   "outputs": [],
   "source": [
    "# 📦 Import des bibliothèques nécessaires,\n",
    "import pandas as pd\n",
    "import numpy as np\n",
    "import matplotlib.pyplot as plt\n",
    "import seaborn as sns\n",
    "from sklearn.model_selection import train_test_split\n",
    "from sklearn.preprocessing import StandardScaler, LabelEncoder\n",
    "from sklearn.linear_model import LinearRegression\n",
    "from sklearn.ensemble import RandomForestRegressor\n",
    "from sklearn.metrics import mean_absolute_error, mean_squared_error, r2_score\n",
    "import requests\n",
    "import json\n",
    "import time"
   ]
  },
  {
   "cell_type": "markdown",
   "id": "e71e1d34",
   "metadata": {},
   "source": [
    "## 📥 Étape 1 : Collecte de données depuis OpenWeatherMap API\n",
    "\n",
    "-Définition de la clé API OpenWeatherMap\n",
    "\n",
    "-Coordonnées géographiques (latitude/longitude) des villes marocaines ciblées"
   ]
  },
  {
   "cell_type": "markdown",
   "id": "e3e0b9c8",
   "metadata": {},
   "source": [
    "Deux API distinctes : une pour la météo, une pour la pollution\n",
    "\n",
    "Variables collectées :\n",
    "\n",
    "Météo : température, humidité, pression, vitesse du vent\n",
    "Pollution : PM2.5 (particules fines), AQI (indice de qualité de l'air)\n",
    "\n",
    "Retour structuré sous forme de dictionnaire"
   ]
  },
  {
   "cell_type": "markdown",
   "id": "a53b2cad",
   "metadata": {},
   "source": [
    "Collecte répétée (5 fois) pour chaque ville\n",
    "\n",
    "Gestion des erreurs avec try/except\n",
    "\n",
    "Pause entre les appels pour respecter les limites de l'API"
   ]
  },
  {
   "cell_type": "code",
   "execution_count": null,
   "id": "7890c9c4",
   "metadata": {},
   "outputs": [],
   "source": [
    "# 🔑 Clé API et coordonnées géographiques des villes\n",
    "API_KEY = \"89671fae7b1780e970a3c9bd8b2eeeb2\"\n",
    "\n",
    "cities = {\n",
    "  \"Casablanca\": {\"lat\": 33.5731, \"lon\": -7.5898},\n",
    "  \"Rabat\": {\"lat\": 34.0209, \"lon\": -6.8416},\n",
    "  \"Marrakech\": {\"lat\": 31.6295, \"lon\": -7.9811},\n",
    "}\n",
    "\n",
    "def fetch_data(city, lat, lon):\n",
    "  weather_url = f\"http://api.openweathermap.org/data/2.5/weather?lat={lat}&lon={lon}&appid={API_KEY}&units=metric\"\n",
    "  air_url = f\"http://api.openweathermap.org/data/2.5/air_pollution?lat={lat}&lon={lon}&appid={API_KEY}\"\n",
    "  \n",
    "  weather_data = requests.get(weather_url).json()\n",
    "  air_data = requests.get(air_url).json()\n",
    "  \n",
    "  return {\n",
    "    \"city\": city,\n",
    "    \"timestamp\": pd.Timestamp.now(),\n",
    "    \"temperature\": weather_data['main']['temp'],\n",
    "    \"humidity\": weather_data['main']['humidity'],\n",
    "    \"pressure\": weather_data['main']['pressure'],\n",
    "    \"wind_speed\": weather_data['wind']['speed'],\n",
    "    \"pm2_5\": air_data['list'][0]['components']['pm2_5'],\n",
    "    \"aqi\": air_data['list'][0]['main']['aqi']\n",
    "  }\n",
    "\n",
    "# Exemple de collecte (répéter pour plusieurs timestamps)\n",
    "\n",
    "records = []\n",
    "for _ in range(5):  # nombre de passages pour simuler plusieurs mesures\n",
    "  for city, coords in cities.items():\n",
    "    try:\n",
    "      record = fetch_data(city, coords['lat'], coords['lon'])\n",
    "      records.append(record)\n",
    "    except Exception as e:\n",
    "      print(f\"Erreur pour {city}: {e}\")\n",
    "  time.sleep(60)  # attendre une minute entre les appels"
   ]
  },
  {
   "cell_type": "markdown",
   "id": "c6878e53",
   "metadata": {},
   "source": [
    "Conversion en DataFrame pandas\n",
    "\n",
    "Sauvegarde en fichier CSV"
   ]
  },
  {
   "cell_type": "code",
   "execution_count": null,
   "id": "88d29edd",
   "metadata": {},
   "outputs": [
    {
     "data": {
      "text/html": [
       "<div>\n",
       "<style scoped>\n",
       "    .dataframe tbody tr th:only-of-type {\n",
       "        vertical-align: middle;\n",
       "    }\n",
       "\n",
       "    .dataframe tbody tr th {\n",
       "        vertical-align: top;\n",
       "    }\n",
       "\n",
       "    .dataframe thead th {\n",
       "        text-align: right;\n",
       "    }\n",
       "</style>\n",
       "<table border=\"1\" class=\"dataframe\">\n",
       "  <thead>\n",
       "    <tr style=\"text-align: right;\">\n",
       "      <th></th>\n",
       "      <th>city</th>\n",
       "      <th>timestamp</th>\n",
       "      <th>temperature</th>\n",
       "      <th>humidity</th>\n",
       "      <th>pressure</th>\n",
       "      <th>wind_speed</th>\n",
       "      <th>pm2_5</th>\n",
       "      <th>aqi</th>\n",
       "    </tr>\n",
       "  </thead>\n",
       "  <tbody>\n",
       "    <tr>\n",
       "      <th>0</th>\n",
       "      <td>Casablanca</td>\n",
       "      <td>2025-06-16 11:09:36.901594</td>\n",
       "      <td>25.01</td>\n",
       "      <td>69</td>\n",
       "      <td>1016</td>\n",
       "      <td>1.54</td>\n",
       "      <td>13.86</td>\n",
       "      <td>2</td>\n",
       "    </tr>\n",
       "    <tr>\n",
       "      <th>1</th>\n",
       "      <td>Rabat</td>\n",
       "      <td>2025-06-16 11:09:37.226359</td>\n",
       "      <td>25.37</td>\n",
       "      <td>73</td>\n",
       "      <td>1016</td>\n",
       "      <td>2.57</td>\n",
       "      <td>14.08</td>\n",
       "      <td>2</td>\n",
       "    </tr>\n",
       "    <tr>\n",
       "      <th>2</th>\n",
       "      <td>Marrakech</td>\n",
       "      <td>2025-06-16 11:09:37.518670</td>\n",
       "      <td>26.98</td>\n",
       "      <td>57</td>\n",
       "      <td>1016</td>\n",
       "      <td>1.54</td>\n",
       "      <td>23.19</td>\n",
       "      <td>4</td>\n",
       "    </tr>\n",
       "    <tr>\n",
       "      <th>3</th>\n",
       "      <td>Casablanca</td>\n",
       "      <td>2025-06-16 11:10:38.012758</td>\n",
       "      <td>25.01</td>\n",
       "      <td>69</td>\n",
       "      <td>1016</td>\n",
       "      <td>1.54</td>\n",
       "      <td>13.86</td>\n",
       "      <td>2</td>\n",
       "    </tr>\n",
       "    <tr>\n",
       "      <th>4</th>\n",
       "      <td>Rabat</td>\n",
       "      <td>2025-06-16 11:10:38.522396</td>\n",
       "      <td>25.37</td>\n",
       "      <td>73</td>\n",
       "      <td>1016</td>\n",
       "      <td>2.57</td>\n",
       "      <td>14.08</td>\n",
       "      <td>2</td>\n",
       "    </tr>\n",
       "  </tbody>\n",
       "</table>\n",
       "</div>"
      ],
      "text/plain": [
       "         city                  timestamp  temperature  humidity  pressure  \\\n",
       "0  Casablanca 2025-06-16 11:09:36.901594        25.01        69      1016   \n",
       "1       Rabat 2025-06-16 11:09:37.226359        25.37        73      1016   \n",
       "2   Marrakech 2025-06-16 11:09:37.518670        26.98        57      1016   \n",
       "3  Casablanca 2025-06-16 11:10:38.012758        25.01        69      1016   \n",
       "4       Rabat 2025-06-16 11:10:38.522396        25.37        73      1016   \n",
       "\n",
       "   wind_speed  pm2_5  aqi  \n",
       "0        1.54  13.86    2  \n",
       "1        2.57  14.08    2  \n",
       "2        1.54  23.19    4  \n",
       "3        1.54  13.86    2  \n",
       "4        2.57  14.08    2  "
      ]
     },
     "execution_count": 3,
     "metadata": {},
     "output_type": "execute_result"
    }
   ],
   "source": [
    "# 📄 Convertir en DataFrame et sauvegarder\\n\",\n",
    "df = pd.DataFrame(records)\n",
    "df.to_csv(\"./data/air_quality_data.csv\", index=False)\n",
    "df.head()"
   ]
  },
  {
   "cell_type": "markdown",
   "id": "2e98f771",
   "metadata": {},
   "source": [
    "## 🧹 Étape 2 : Préparation et traitement des données"
   ]
  },
  {
   "cell_type": "markdown",
   "id": "2b112e3b",
   "metadata": {},
   "source": [
    "Suppression des doublons et valeurs manquantes\n",
    "\n",
    "Encodage des noms de villes en valeurs numériques (nécessaire pour ML)\n",
    "\n",
    "Suppression des doublons et valeurs manquantes\n",
    "\n",
    "Encodage des noms de villes en valeurs numériques (nécessaire pour ML)\n",
    "\n",
    "StandardScaler : normalise les données (moyenne=0, écart-type=1)\n",
    "\n",
    "train_test_split : divise les données (80% entraînement, 20% test)"
   ]
  },
  {
   "cell_type": "code",
   "execution_count": 4,
   "id": "4cfba983",
   "metadata": {},
   "outputs": [],
   "source": [
    "# 🧽 Nettoyage\n",
    "df.drop_duplicates(inplace=True)\n",
    "df.dropna(inplace=True)\n",
    "df['city'] = LabelEncoder().fit_transform(df['city'])\n",
    "\n",
    "# 🔄 Séparation features/target\n",
    "X = df.drop(columns=['pm2_5', 'timestamp'])\n",
    "y = df['pm2_5']  # Target: PM2.5\n",
    "\n",
    "# 🔢 Normalisation\n",
    "scaler = StandardScaler()\n",
    "X_scaled = scaler.fit_transform(X)\n",
    "\n",
    "# 🧪 Train/Test split\n",
    "X_train, X_test, y_train, y_test = train_test_split(X_scaled, y, test_size=0.2, random_state=42)"
   ]
  },
  {
   "cell_type": "markdown",
   "id": "278151f7",
   "metadata": {},
   "source": [
    "## 🤖 Étape 3 : Entraînement des modèles de prédiction"
   ]
  },
  {
   "cell_type": "markdown",
   "id": "f6d9ead7",
   "metadata": {},
   "source": [
    "Modèle 1 : Régression Linéaire\n",
    "\n",
    "Modèle simple qui trouve une relation linéaire entre variables météo et PM2.5"
   ]
  },
  {
   "cell_type": "code",
   "execution_count": 5,
   "id": "d8e24b2d",
   "metadata": {},
   "outputs": [],
   "source": [
    "# 🔁 Modèle 1 : Régression Linéaire\\n\",\n",
    "lr = LinearRegression()\n",
    "lr.fit(X_train, y_train)\n",
    "y_pred_lr = lr.predict(X_test)\n"
   ]
  },
  {
   "cell_type": "markdown",
   "id": "e6dc145c",
   "metadata": {},
   "source": [
    "Modèle 2 : Random Forest\n",
    "\n",
    "Modèle plus complexe basé sur 100 arbres de décision\n",
    "\n",
    "Capable de capturer des relations non-linéaires"
   ]
  },
  {
   "cell_type": "code",
   "execution_count": 6,
   "id": "6217b43f",
   "metadata": {},
   "outputs": [],
   "source": [
    "# 🌲 Modèle 2 : Random Forest\n",
    "rf = RandomForestRegressor(n_estimators=100, random_state=42)\n",
    "rf.fit(X_train, y_train)\n",
    "y_pred_rf = rf.predict(X_test)"
   ]
  },
  {
   "cell_type": "markdown",
   "id": "fce75b5b",
   "metadata": {},
   "source": [
    "### 📊 Évaluation des modèle"
   ]
  },
  {
   "cell_type": "markdown",
   "id": "79a4a703",
   "metadata": {},
   "source": [
    "Métriques utilisées :\n",
    "\n",
    "-MAE : Erreur absolue moyenne\n",
    "\n",
    "-RMSE : Racine de l'erreur quadratique moyenne\n",
    "\n",
    "-R² : Coefficient de détermination (qualité de l'ajustement)"
   ]
  },
  {
   "cell_type": "code",
   "execution_count": 7,
   "id": "d30dbb20",
   "metadata": {},
   "outputs": [
    {
     "name": "stdout",
     "output_type": "stream",
     "text": [
      "\n",
      "Régression Linéaire:\n",
      "MAE: 2.3684757858670005e-15\n",
      "RMSE: 2.9007785717557725e-15\n",
      "R2: 1.0\n",
      "\n",
      "Random Forest:\n",
      "MAE: 0.15843333333330753\n",
      "RMSE: 0.16499180787741977\n",
      "R2: 0.9985927411489408\n"
     ]
    }
   ],
   "source": [
    "def evaluate(y_true, y_pred, name):\n",
    "  print(f\"\\n{name}:\")\n",
    "  print(\"MAE:\", mean_absolute_error(y_true, y_pred))\n",
    "  print(\"RMSE:\", np.sqrt(mean_squared_error(y_true, y_pred)))\n",
    "  print(\"R2:\", r2_score(y_true, y_pred))\n",
    "\n",
    "evaluate(y_test, y_pred_lr, \"Régression Linéaire\")\n",
    "evaluate(y_test, y_pred_rf, \"Random Forest\")"
   ]
  },
  {
   "cell_type": "markdown",
   "id": "824ab730",
   "metadata": {},
   "source": [
    "## 🧪 Bonus : Simulation d’Apprentissage Fédéré (Federated Learning)\""
   ]
  },
  {
   "cell_type": "markdown",
   "id": "084b18b8",
   "metadata": {},
   "source": [
    "Concept :\n",
    "\n",
    "L'apprentissage fédéré permet d'entraîner un modèle global sans centraliser les données. Chaque ville (client) entraîne son modèle local, puis les paramètres sont agrégés."
   ]
  },
  {
   "cell_type": "markdown",
   "id": "a00eabf7",
   "metadata": {},
   "source": [
    "Chaque ville devient un \"client\" avec ses propres données\n",
    "\n",
    "Séparation des données par ville"
   ]
  },
  {
   "cell_type": "code",
   "execution_count": null,
   "id": "780f8c14",
   "metadata": {},
   "outputs": [],
   "source": [
    "# 🏛️ Simulation de Federated Learning avec FedAvg\n",
    "# Préparation des clients (chaque ville = un client)\n",
    "\n",
    "clients = {}\n",
    "for city_id in df['city'].unique():\n",
    "    city_data = df[df['city'] == city_id]\n",
    "    X_city = scaler.transform(city_data.drop(columns=['pm2_5', 'timestamp']))\n",
    "    y_city = city_data['pm2_5'].values\n",
    "    clients[city_id] = (X_city, y_city)\n"
   ]
  },
  {
   "cell_type": "markdown",
   "id": "842ff7eb",
   "metadata": {},
   "source": [
    "Processus FedAvg :\n",
    "\n",
    "Entraînement local : Chaque ville entraîne son modèle sur ses données\n",
    "Envoi des paramètres : Coefficients et intercept envoyés au serveur central\n",
    "Agrégation : Moyenne pondérée des paramètres selon le nombre d'échantillons\n",
    "Répétition : Processus répété sur plusieurs rounds"
   ]
  },
  {
   "cell_type": "code",
   "execution_count": null,
   "id": "f87d3720",
   "metadata": {},
   "outputs": [],
   "source": [
    "# Simulation FedAvg\n",
    "coef = np.zeros(X_train.shape[1])\n",
    "intercept = 0\n",
    "rounds = 20\n",
    "\n",
    "for rnd in range(rounds):\n",
    "    local_coefs, local_intercepts, n_samples = [], [], []\n",
    "    for cid, (Xc, yc) in clients.items():\n",
    "        model = LinearRegression()\n",
    "        model.fit(Xc, yc)\n",
    "        local_coefs.append(model.coef_)\n",
    "        local_intercepts.append(model.intercept_)\n",
    "        n_samples.append(len(Xc))\n",
    "    coef = np.average(local_coefs, axis=0, weights=n_samples)\n",
    "    intercept = np.average(local_intercepts, weights=n_samples)\n",
    "\n",
    "# Modèle fédéré global\n",
    "federated_model = LinearRegression()\n",
    "federated_model.coef_ = coef\n",
    "federated_model.intercept_ = intercept"
   ]
  },
  {
   "cell_type": "markdown",
   "id": "5a65b3e7",
   "metadata": {},
   "source": [
    "Visualisations\n",
    "\n",
    "Le code génère plusieurs graphiques :\n",
    "\n",
    "Barplots : Comparaison des métriques (MAE, RMSE, R²)\n",
    "\n",
    "Scatter plots : Prédictions vs valeurs réelles pour chaque modèle"
   ]
  },
  {
   "cell_type": "code",
   "execution_count": 9,
   "id": "f11cf373",
   "metadata": {},
   "outputs": [],
   "source": [
    "# Modèles classiques\n",
    "lr_model = LinearRegression().fit(X_train, y_train)\n",
    "rf_model = RandomForestRegressor(n_estimators=100, random_state=42).fit(X_train, y_train)\n",
    "\n",
    "# Prédictions\n",
    "y_pred_lr = lr_model.predict(X_test)\n",
    "y_pred_rf = rf_model.predict(X_test)\n",
    "y_pred_fed = federated_model.predict(X_test)\n",
    "\n",
    "# Fonction d'évaluation\n",
    "def evaluate_all():\n",
    "    models = ['Régression Linéaire', 'Random Forest', 'Fédéré']\n",
    "    predictions = [y_pred_lr, y_pred_rf, y_pred_fed]\n",
    "    metrics = {'Model': [], 'MAE': [], 'RMSE': [], 'R2': []}\n",
    "\n",
    "    for name, pred in zip(models, predictions):\n",
    "        metrics['Model'].append(name)\n",
    "        metrics['MAE'].append(mean_absolute_error(y_test, pred))\n",
    "        metrics['RMSE'].append(np.sqrt(mean_squared_error(y_test, pred)))\n",
    "        metrics['R2'].append(r2_score(y_test, pred))\n",
    "    \n",
    "    return metrics\n",
    "\n",
    "results = evaluate_all()"
   ]
  },
  {
   "cell_type": "code",
   "execution_count": 10,
   "id": "5826c38c",
   "metadata": {},
   "outputs": [
    {
     "data": {
      "image/png": "[encoded data removed]",
      "text/plain": [
       "<Figure size 1200x500 with 3 Axes>"
      ]
     },
     "metadata": {},
     "output_type": "display_data"
    }
   ],
   "source": [
    "results_df = pd.DataFrame(results)\n",
    "\n",
    "# Barplot des performances\n",
    "plt.figure(figsize=(12, 5))\n",
    "plt.subplot(1, 3, 1)\n",
    "sns.barplot(data=results_df, x=\"Model\", y=\"MAE\")\n",
    "plt.title(\"MAE (erreur absolue moyenne)\")\n",
    "\n",
    "plt.subplot(1, 3, 2)\n",
    "sns.barplot(data=results_df, x=\"Model\", y=\"RMSE\")\n",
    "plt.title(\"RMSE (racine de l'erreur quadratique)\")\n",
    "\n",
    "plt.subplot(1, 3, 3)\n",
    "sns.barplot(data=results_df, x=\"Model\", y=\"R2\")\n",
    "plt.title(\"Score R²\")\n",
    "\n",
    "plt.tight_layout()\n",
    "plt.show()\n"
   ]
  },
  {
   "cell_type": "code",
   "execution_count": 11,
   "id": "b1cb6ede",
   "metadata": {},
   "outputs": [
    {
     "data": {
      "image/png": "[encoded data removed]",
      "text/plain": [
       "<Figure size 1800x500 with 3 Axes>"
      ]
     },
     "metadata": {},
     "output_type": "display_data"
    }
   ],
   "source": [
    "plt.figure(figsize=(18, 5))\n",
    "\n",
    "# Régression linéaire\n",
    "plt.subplot(1, 3, 1)\n",
    "plt.scatter(y_test, y_pred_lr, alpha=0.5, color='skyblue')\n",
    "plt.plot([y_test.min(), y_test.max()], [y_test.min(), y_test.max()], 'r--')\n",
    "plt.xlabel(\"Valeurs réelles (PM2.5)\")\n",
    "plt.ylabel(\"Prédictions\")\n",
    "plt.title(\"Régression Linéaire\")\n",
    "\n",
    "# Random Forest\n",
    "plt.subplot(1, 3, 2)\n",
    "plt.scatter(y_test, y_pred_rf, alpha=0.5, color='orange')\n",
    "plt.plot([y_test.min(), y_test.max()], [y_test.min(), y_test.max()], 'r--')\n",
    "plt.xlabel(\"Valeurs réelles (PM2.5)\")\n",
    "plt.ylabel(\"Prédictions\")\n",
    "plt.title(\"Random Forest\")\n",
    "\n",
    "# Modèle Fédéré\n",
    "plt.subplot(1, 3, 3)\n",
    "plt.scatter(y_test, y_pred_fed, alpha=0.5, color='green')\n",
    "plt.plot([y_test.min(), y_test.max()], [y_test.min(), y_test.max()], 'r--')\n",
    "plt.xlabel(\"Valeurs réelles (PM2.5)\")\n",
    "plt.ylabel(\"Prédictions\")\n",
    "plt.title(\"Modèle Fédéré\")\n",
    "\n",
    "plt.suptitle(\"Comparaison des Prédictions vs Réalité\")\n",
    "plt.tight_layout()\n",
    "plt.show()\n"
   ]
  },
  {
   "cell_type": "code",
   "execution_count": 12,
   "id": "d42075de",
   "metadata": {},
   "outputs": [
    {
     "name": "stdout",
     "output_type": "stream",
     "text": [
      "Round 1\n",
      "Round 2\n",
      "Round 3\n",
      "Round 4\n",
      "Round 5\n",
      "Round 6\n",
      "Round 7\n",
      "Round 8\n",
      "Round 9\n",
      "Round 10\n",
      "Round 11\n",
      "Round 12\n",
      "Round 13\n",
      "Round 14\n",
      "Round 15\n",
      "Round 16\n",
      "Round 17\n",
      "Round 18\n",
      "Round 19\n",
      "Round 20\n",
      "Round 21\n",
      "Round 22\n",
      "Round 23\n",
      "Round 24\n",
      "Round 25\n",
      "Round 26\n",
      "Round 27\n",
      "Round 28\n",
      "Round 29\n",
      "Round 30\n",
      "Round 31\n",
      "Round 32\n",
      "Round 33\n",
      "Round 34\n",
      "Round 35\n",
      "Round 36\n",
      "Round 37\n",
      "Round 38\n",
      "Round 39\n",
      "Round 40\n",
      "Round 41\n",
      "Round 42\n",
      "Round 43\n",
      "Round 44\n",
      "Round 45\n",
      "Round 46\n",
      "Round 47\n",
      "Round 48\n",
      "Round 49\n",
      "Round 50\n",
      "\n",
      "Modèle Fédéré:\n",
      "MAE: 5.5426842030997365\n",
      "RMSE: 8.060667857663539\n",
      "R2: -2.3588551768266495\n"
     ]
    }
   ],
   "source": [
    "# 🎓 Regrouper les données par ville (clients)\n",
    "clients = {}\n",
    "for city_id in df['city'].unique():\n",
    "  city_data = df[df['city'] == city_id]\n",
    "  X_city = scaler.transform(city_data.drop(columns=['pm2_5', 'timestamp']))\n",
    "  y_city = city_data['pm2_5'].values\n",
    "  clients[city_id] = (X_city, y_city)\n",
    "\n",
    "# ⚙️ Initialisation du modèle global (Linear Regression)\n",
    "global_model = LinearRegression()\n",
    "coef = np.zeros(X_train.shape[1])\n",
    "intercept = 0\n",
    "\n",
    "# 🔄 Fédérer pendant plusieurs rounds\n",
    "for rnd in range(50):\n",
    "  print(f\"Round {rnd+1}\")\n",
    "  local_coefs = []\n",
    "  local_intercepts = []\n",
    "  n_samples = []\n",
    "  \n",
    "  for cid, (Xc, yc) in clients.items():\n",
    "    model = LinearRegression()\n",
    "    model.fit(Xc, yc)\n",
    "    local_coefs.append(model.coef_)\n",
    "    local_intercepts.append(model.intercept_)\n",
    "    n_samples.append(len(Xc))\n",
    "    \n",
    "  # Agrégation FedAvg\n",
    "  total = np.sum(n_samples)\n",
    "  coef = np.average(local_coefs, axis=0, weights=n_samples)\n",
    "  intercept = np.average(local_intercepts, weights=n_samples)\n",
    "\n",
    "global_model.coef_ = coef\n",
    "global_model.intercept_ = intercept\n",
    "\n",
    "y_pred_fed = global_model.predict(X_test)\n",
    "evaluate(y_test, y_pred_fed, \"Modèle Fédéré\")"
   ]
  }
 ],
 "metadata": {
  "kernelspec": {
   "display_name": "Python 3",
   "language": "python",
   "name": "python3"
  },
  "language_info": {
   "codemirror_mode": {
    "name": "ipython",
    "version": 3
   },
   "file_extension": ".py",
   "mimetype": "text/x-python",
   "name": "python",
   "nbconvert_exporter": "python",
   "pygments_lexer": "ipython3",
   "version": "3.9.7"
  }
 },
 "nbformat": 4,
 "nbformat_minor": 5
}
